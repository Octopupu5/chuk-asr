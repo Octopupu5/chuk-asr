{
 "cells": [
  {
   "cell_type": "markdown",
   "id": "d845e3e4",
   "metadata": {},
   "source": [
    "## Импорт основных библиотек и вспомогательных модулей"
   ]
  },
  {
   "cell_type": "code",
   "execution_count": 1,
   "id": "ceac54f2",
   "metadata": {},
   "outputs": [],
   "source": [
    "import pandas as pd\n",
    "import torch\n",
    "from transformers import (\n",
    "    Wav2Vec2Processor,\n",
    "    Wav2Vec2ForCTC,\n",
    "    Wav2Vec2FeatureExtractor,\n",
    "    TrainingArguments,\n",
    "    Trainer\n",
    ")\n",
    "import asr_utils\n",
    "import asr_inference"
   ]
  },
  {
   "cell_type": "markdown",
   "id": "bbfb12c4",
   "metadata": {},
   "source": [
    "## Определение путей к файлам словаря и датасета, загрузка датасета"
   ]
  },
  {
   "cell_type": "code",
   "execution_count": null,
   "id": "b86c9537",
   "metadata": {},
   "outputs": [],
   "source": [
    "vocab, dsat = \"./vocab.json\", \"./asr_dataset.csv\"\n",
    "\n",
    "device = torch.device(\"cuda\" if torch.cuda.is_available() else \"cpu\")\n",
    "df = pd.read_csv(dsat)\n",
    "df['audio_path'] = df['audio_path'].str.replace('\\\\', '/')\n",
    "vocab_dict = asr_utils.create_vocab(df, vocab)"
   ]
  },
  {
   "cell_type": "markdown",
   "id": "646ae725",
   "metadata": {},
   "source": [
    "## Инициализация модели и процессора, токенизация, настройка архитектуры"
   ]
  },
  {
   "cell_type": "code",
   "execution_count": 3,
   "id": "8d4e1edc",
   "metadata": {},
   "outputs": [
    {
     "name": "stderr",
     "output_type": "stream",
     "text": [
      "Some weights of Wav2Vec2ForCTC were not initialized from the model checkpoint at facebook/wav2vec2-large-xlsr-53 and are newly initialized: ['lm_head.bias', 'lm_head.weight']\n",
      "You should probably TRAIN this model on a down-stream task to be able to use it for predictions and inference.\n"
     ]
    }
   ],
   "source": [
    "model_name = \"facebook/wav2vec2-large-xlsr-53\"\n",
    "\n",
    "tokenizer = asr_utils.get_tokenizer(vocab)\n",
    "feature_extractor = Wav2Vec2FeatureExtractor.from_pretrained(model_name)\n",
    "processor = Wav2Vec2Processor(feature_extractor=feature_extractor, tokenizer=tokenizer)\n",
    "\n",
    "\n",
    "model = Wav2Vec2ForCTC.from_pretrained(model_name)\n",
    "\n",
    "model.wav2vec2.feature_extractor._freeze_parameters()\n",
    "\n",
    "model.config.vocab_size = len(tokenizer)\n",
    "model.lm_head = torch.nn.Linear(model.config.hidden_size, len(tokenizer))\n",
    "torch.nn.init.normal_(model.lm_head.weight, mean=0.0, std=model.config.initializer_range)\n",
    "if model.lm_head.bias is not None:\n",
    "    torch.nn.init.zeros_(model.lm_head.bias)\n",
    "\n",
    "model.config.ctc_loss_reduction = \"mean\"\n",
    "model.config.pad_token_id = processor.tokenizer.pad_token_id\n"
   ]
  },
  {
   "cell_type": "markdown",
   "id": "b1b17b1a",
   "metadata": {},
   "source": [
    "## Подготовка функции преобразования для датасета"
   ]
  },
  {
   "cell_type": "code",
   "execution_count": 4,
   "id": "ad7b59df",
   "metadata": {},
   "outputs": [
    {
     "data": {
      "application/vnd.jupyter.widget-view+json": {
       "model_id": "582a889bfbd94c5cbd8cba9a8b81470f",
       "version_major": 2,
       "version_minor": 0
      },
      "text/plain": [
       "Map:   0%|          | 0/885 [00:00<?, ? examples/s]"
      ]
     },
     "metadata": {},
     "output_type": "display_data"
    }
   ],
   "source": [
    "def prepare_dataset(batch):\n",
    "    audio = asr_utils.load_audio(batch[\"audio_path\"])\n",
    "    processed = processor(audio, text=batch[\"text\"], sampling_rate=16000)\n",
    "    batch[\"input_values\"] = processed.input_values[0]\n",
    "    batch[\"labels\"] = processed.labels\n",
    "    \n",
    "    return batch\n",
    "\n",
    "train_dataset, eval_dataset, data_collator = asr_utils.prepare_split(df, prepare_dataset, processor)"
   ]
  },
  {
   "cell_type": "markdown",
   "id": "ac4d3d32",
   "metadata": {},
   "source": [
    "## Параметры обучения и Trainer (раскомментируйте, чтобы запустить обучение моделей)"
   ]
  },
  {
   "cell_type": "code",
   "execution_count": 5,
   "id": "494e76b2",
   "metadata": {},
   "outputs": [],
   "source": [
    "# dir_to_save_checkpoints = \"./trained/xlsr53-chukchi-finetuned\"\n",
    "# training_args = TrainingArguments(\n",
    "#     output_dir=dir_to_save_checkpoints,\n",
    "#     group_by_length=True,\n",
    "#     per_device_train_batch_size=8,\n",
    "#     per_device_eval_batch_size=8,\n",
    "#     gradient_accumulation_steps=2,\n",
    "#     eval_strategy=\"steps\",\n",
    "#     num_train_epochs=30,\n",
    "#     fp16=True,\n",
    "#     gradient_checkpointing=True,\n",
    "#     save_steps=100,\n",
    "#     eval_steps=100,\n",
    "#     logging_steps=25,\n",
    "#     learning_rate=1e-4,\n",
    "#     warmup_steps=200,\n",
    "#     weight_decay=0.01,\n",
    "#     lr_scheduler_type=\"cosine_with_restarts\",\n",
    "#     save_total_limit=3,\n",
    "#     dataloader_num_workers=2,\n",
    "#     dataloader_pin_memory=True,\n",
    "#     load_best_model_at_end=True,\n",
    "#     metric_for_best_model=\"eval_loss\",\n",
    "#     greater_is_better=False,\n",
    "#     report_to=None,\n",
    "#     remove_unused_columns=False,\n",
    "#     max_steps=2000,\n",
    "# )\n",
    "\n",
    "# trainer = Trainer(\n",
    "#     model=model,\n",
    "#     data_collator=data_collator,\n",
    "#     args=training_args,\n",
    "#     compute_metrics=asr_utils.create_compute_metrics(processor),\n",
    "#     train_dataset=train_dataset,\n",
    "#     eval_dataset=eval_dataset,\n",
    "#     processing_class=processor.feature_extractor,\n",
    "# )"
   ]
  },
  {
   "cell_type": "markdown",
   "id": "855f9ec9",
   "metadata": {},
   "source": [
    "## Папка назначения для финальной сохраненной модели"
   ]
  },
  {
   "cell_type": "code",
   "execution_count": 6,
   "id": "f21fc21d",
   "metadata": {},
   "outputs": [],
   "source": [
    "dir_to_save_best = \"./trained/xlsr53-chukchi-final\""
   ]
  },
  {
   "cell_type": "markdown",
   "id": "92ab7473",
   "metadata": {},
   "source": [
    "## Обучение и сохранение результатов (раскомментируйте, чтобы запустить обучение моделей)"
   ]
  },
  {
   "cell_type": "code",
   "execution_count": 7,
   "id": "0d099051",
   "metadata": {},
   "outputs": [],
   "source": [
    "# trainer.train()\n",
    "\n",
    "# trainer.save_model(dir_to_save_best)\n",
    "# processor.save_pretrained(dir_to_save_best)"
   ]
  },
  {
   "cell_type": "markdown",
   "id": "56cebb96",
   "metadata": {},
   "source": [
    "## Оценка модели на валидационной выборке (рассчёт WER/CER)"
   ]
  },
  {
   "cell_type": "code",
   "execution_count": 8,
   "id": "c642d16b",
   "metadata": {},
   "outputs": [
    {
     "name": "stdout",
     "output_type": "stream",
     "text": [
      "WER: 0.853\n",
      "CER: 0.194\n"
     ]
    }
   ],
   "source": [
    "path_to_save_results = \"./results/xslr-53-results.txt\"\n",
    "asr_inference.evaluate_model(eval_dataset, dir_to_save_best, \"./results/xslr-53-results.txt\")"
   ]
  }
 ],
 "metadata": {
  "kernelspec": {
   "display_name": ".venv",
   "language": "python",
   "name": "python3"
  },
  "language_info": {
   "codemirror_mode": {
    "name": "ipython",
    "version": 3
   },
   "file_extension": ".py",
   "mimetype": "text/x-python",
   "name": "python",
   "nbconvert_exporter": "python",
   "pygments_lexer": "ipython3",
   "version": "3.12.3"
  }
 },
 "nbformat": 4,
 "nbformat_minor": 5
}
