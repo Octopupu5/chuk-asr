{
 "cells": [
  {
   "cell_type": "code",
   "execution_count": 1,
   "id": "40f2f99b",
   "metadata": {},
   "outputs": [],
   "source": [
    "import pandas as pd\n",
    "import torch\n",
    "from transformers import (\n",
    "    Wav2Vec2Processor,\n",
    "    Wav2Vec2ForCTC,\n",
    "    Wav2Vec2FeatureExtractor,\n",
    "    TrainingArguments,\n",
    "    Trainer,\n",
    "    EarlyStoppingCallback\n",
    ")\n",
    "import asr_utils\n",
    "import asr_inference"
   ]
  },
  {
   "cell_type": "code",
   "execution_count": null,
   "id": "7bad648b",
   "metadata": {},
   "outputs": [],
   "source": [
    "vocab, dsat = \"./data/vocab.json\", \"./data/asr_dataset.csv\"\n",
    "\n",
    "device = torch.device(\"cuda\" if torch.cuda.is_available() else \"cpu\")\n",
    "df = pd.read_csv(dsat)\n",
    "df['audio_path'] = df['audio_path'].str.replace('\\\\', '/')\n",
    "vocab_dict = asr_utils.create_vocab(df, vocab)"
   ]
  },
  {
   "cell_type": "code",
   "execution_count": 3,
   "id": "09f97b70",
   "metadata": {},
   "outputs": [],
   "source": [
    "model_name = \"facebook/mms-1b-all\"\n",
    "\n",
    "tokenizer = asr_utils.get_tokenizer(vocab)\n",
    "feature_extractor = Wav2Vec2FeatureExtractor.from_pretrained(model_name)\n",
    "processor = Wav2Vec2Processor(feature_extractor=feature_extractor, tokenizer=tokenizer)\n",
    "\n",
    "model = Wav2Vec2ForCTC.from_pretrained(model_name)\n",
    "\n",
    "model.wav2vec2.feature_extractor._freeze_parameters()\n",
    "\n",
    "for i, layer in enumerate(model.wav2vec2.encoder.layers):\n",
    "    if i < 30:\n",
    "        for param in layer.parameters():\n",
    "            param.requires_grad = False\n",
    "\n",
    "model.config.vocab_size = len(tokenizer)\n",
    "model.lm_head = torch.nn.Linear(model.config.hidden_size, len(tokenizer))\n",
    "model.config.ctc_loss_reduction = \"mean\"\n",
    "model.config.pad_token_id = processor.tokenizer.pad_token_id"
   ]
  },
  {
   "cell_type": "code",
   "execution_count": 4,
   "id": "d96562ee",
   "metadata": {},
   "outputs": [
    {
     "data": {
      "application/vnd.jupyter.widget-view+json": {
       "model_id": "23e6cf8e0e174c03a38431be5daf7767",
       "version_major": 2,
       "version_minor": 0
      },
      "text/plain": [
       "Map:   0%|          | 0/885 [00:00<?, ? examples/s]"
      ]
     },
     "metadata": {},
     "output_type": "display_data"
    }
   ],
   "source": [
    "def prepare_dataset(batch):\n",
    "    audio = asr_utils.load_audio(batch[\"audio_path\"])\n",
    "    processed = processor(audio, text=batch[\"text\"], sampling_rate=16000)\n",
    "    batch[\"input_values\"] = processed.input_values[0]\n",
    "    batch[\"labels\"] = processed.labels\n",
    "    \n",
    "    return batch\n",
    "\n",
    "train_dataset, eval_dataset, data_collator = asr_utils.prepare_split(df, prepare_dataset, processor)"
   ]
  },
  {
   "cell_type": "code",
   "execution_count": 5,
   "id": "e1f23d6a",
   "metadata": {},
   "outputs": [],
   "source": [
    "# dir_to_save_checkpoints = \"./trained/mms-1b-chukchi-frozen-finetuned\"\n",
    "# training_args = TrainingArguments(\n",
    "#     output_dir=dir_to_save_checkpoints,\n",
    "#     group_by_length=True,\n",
    "#     per_device_train_batch_size=4,\n",
    "#     per_device_eval_batch_size=8,\n",
    "#     gradient_accumulation_steps=4,\n",
    "#     eval_strategy=\"steps\",\n",
    "#     num_train_epochs=30,\n",
    "#     fp16=True,\n",
    "#     gradient_checkpointing=True,\n",
    "#     save_steps=150,\n",
    "#     eval_steps=150,\n",
    "#     logging_steps=25,\n",
    "#     learning_rate=5e-5,\n",
    "#     weight_decay=0.01,\n",
    "#     warmup_steps=200,\n",
    "#     lr_scheduler_type=\"cosine\",\n",
    "#     save_total_limit=5,\n",
    "#     dataloader_num_workers=2,\n",
    "#     dataloader_pin_memory=True,\n",
    "#     load_best_model_at_end=True,\n",
    "#     metric_for_best_model=\"wer\",\n",
    "#     greater_is_better=False,\n",
    "#     report_to=None,\n",
    "#     remove_unused_columns=False,\n",
    "#     max_steps=10000,\n",
    "# )\n",
    "\n",
    "# trainer = Trainer(\n",
    "#     model=model,\n",
    "#     data_collator=data_collator,\n",
    "#     args=training_args,\n",
    "#     compute_metrics=asr_utils.create_compute_metrics(processor),\n",
    "#     train_dataset=train_dataset,\n",
    "#     eval_dataset=eval_dataset,\n",
    "#     processing_class=processor.feature_extractor,\n",
    "#     callbacks=[EarlyStoppingCallback(early_stopping_patience=10, early_stopping_threshold=0.001)]\n",
    "# )\n",
    "\n",
    "# print(f\"{100*sum(p.numel() for p in model.parameters() if p.requires_grad)/sum(p.numel() for p in model.parameters()):.1f}% trainable params\")"
   ]
  },
  {
   "cell_type": "code",
   "execution_count": 6,
   "id": "4e21836e",
   "metadata": {},
   "outputs": [],
   "source": [
    "dir_to_save_best = \"./trained/mms-1b-chukchi-final\""
   ]
  },
  {
   "cell_type": "code",
   "execution_count": 7,
   "id": "26f87ede",
   "metadata": {},
   "outputs": [],
   "source": [
    "# trainer.train()\n",
    "\n",
    "# trainer.save_model(dir_to_save_best)\n",
    "# processor.save_pretrained(dir_to_save_best)"
   ]
  },
  {
   "cell_type": "code",
   "execution_count": 9,
   "id": "c8365849",
   "metadata": {},
   "outputs": [
    {
     "name": "stdout",
     "output_type": "stream",
     "text": [
      "WER: 0.841\n",
      "CER: 0.190\n"
     ]
    }
   ],
   "source": [
    "path_to_save_results = \"./results/mms-1b-results.txt\"\n",
    "asr_inference.evaluate_model(eval_dataset, dir_to_save_best, path_to_save_results)"
   ]
  }
 ],
 "metadata": {
  "kernelspec": {
   "display_name": ".venv",
   "language": "python",
   "name": "python3"
  },
  "language_info": {
   "codemirror_mode": {
    "name": "ipython",
    "version": 3
   },
   "file_extension": ".py",
   "mimetype": "text/x-python",
   "name": "python",
   "nbconvert_exporter": "python",
   "pygments_lexer": "ipython3",
   "version": "3.12.3"
  }
 },
 "nbformat": 4,
 "nbformat_minor": 5
}
