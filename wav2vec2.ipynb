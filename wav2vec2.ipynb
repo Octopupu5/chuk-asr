{
 "cells": [
  {
   "cell_type": "markdown",
   "id": "a476876c",
   "metadata": {},
   "source": [
    "## Импорт основных библиотек и вспомогательных модулей"
   ]
  },
  {
   "cell_type": "code",
   "execution_count": 1,
   "id": "6282cdd1",
   "metadata": {},
   "outputs": [],
   "source": [
    "import pandas as pd\n",
    "import torch\n",
    "from transformers import (\n",
    "    Wav2Vec2Processor,\n",
    "    Wav2Vec2ForCTC,\n",
    "    Wav2Vec2FeatureExtractor,\n",
    "    TrainingArguments,\n",
    "    Trainer\n",
    ")\n",
    "import asr_utils\n",
    "import asr_inference"
   ]
  },
  {
   "cell_type": "markdown",
   "id": "5d2d5795",
   "metadata": {},
   "source": [
    "## Определение путей к файлам словаря и датасета, загрузка датасета"
   ]
  },
  {
   "cell_type": "code",
   "execution_count": 2,
   "id": "b9371cd1",
   "metadata": {},
   "outputs": [],
   "source": [
    "vocab, dsat = \"./vocab.json\", \"./asr_dataset.csv\"\n",
    "\n",
    "device = torch.device(\"cuda\" if torch.cuda.is_available() else \"cpu\")\n",
    "df = pd.read_csv(dsat)\n",
    "df['audio_path'] = df['audio_path'].str.replace('\\\\', '/')\n",
    "vocab_dict = asr_utils.create_vocab(df, vocab)"
   ]
  },
  {
   "cell_type": "markdown",
   "id": "c203e760",
   "metadata": {},
   "source": [
    "## Инициализация модели и процессора, токенизация, настройка архитектуры"
   ]
  },
  {
   "cell_type": "code",
   "execution_count": 3,
   "id": "e1f69a6b",
   "metadata": {},
   "outputs": [
    {
     "name": "stderr",
     "output_type": "stream",
     "text": [
      "Some weights of Wav2Vec2ForCTC were not initialized from the model checkpoint at facebook/wav2vec2-large-960h and are newly initialized: ['wav2vec2.masked_spec_embed']\n",
      "You should probably TRAIN this model on a down-stream task to be able to use it for predictions and inference.\n"
     ]
    }
   ],
   "source": [
    "model_name = \"facebook/wav2vec2-large-960h\"\n",
    "\n",
    "tokenizer = asr_utils.get_tokenizer(vocab)\n",
    "feature_extractor = Wav2Vec2FeatureExtractor.from_pretrained(model_name)\n",
    "processor = Wav2Vec2Processor(feature_extractor=feature_extractor, tokenizer=tokenizer)\n",
    "\n",
    "model = Wav2Vec2ForCTC.from_pretrained(model_name)\n",
    "model.config.vocab_size = len(tokenizer)\n",
    "model.lm_head = torch.nn.Linear(model.config.hidden_size, len(tokenizer))\n",
    "model.config.ctc_loss_reduction = \"mean\"\n",
    "model.config.pad_token_id = processor.tokenizer.pad_token_id"
   ]
  },
  {
   "cell_type": "markdown",
   "id": "689b9601",
   "metadata": {},
   "source": [
    "## Подготовка функции преобразования для датасета"
   ]
  },
  {
   "cell_type": "code",
   "execution_count": 4,
   "id": "a27a6baa",
   "metadata": {},
   "outputs": [
    {
     "data": {
      "application/vnd.jupyter.widget-view+json": {
       "model_id": "1568dc9333b84457bdde3c8acfc898bf",
       "version_major": 2,
       "version_minor": 0
      },
      "text/plain": [
       "Map:   0%|          | 0/885 [00:00<?, ? examples/s]"
      ]
     },
     "metadata": {},
     "output_type": "display_data"
    }
   ],
   "source": [
    "def prepare_dataset(batch):\n",
    "    audio = asr_utils.load_audio(batch[\"audio_path\"])\n",
    "    processed = processor(audio, text=batch[\"text\"], sampling_rate=16000)\n",
    "    batch[\"input_values\"] = processed.input_values[0]\n",
    "    batch[\"labels\"] = processed.labels\n",
    "    \n",
    "    return batch\n",
    "\n",
    "train_dataset, eval_dataset, data_collator = asr_utils.prepare_split(df, prepare_dataset, processor)"
   ]
  },
  {
   "cell_type": "markdown",
   "id": "175ab652",
   "metadata": {},
   "source": [
    "## Параметры обучения и Trainer (раскомментируйте, чтобы запустить обучение моделей)"
   ]
  },
  {
   "cell_type": "code",
   "execution_count": null,
   "id": "d51ea4d8",
   "metadata": {},
   "outputs": [],
   "source": [
    "# dir_to_save_checkpoints = \"./trained/wav2vec2-960h-chukchi-finetuned\"\n",
    "# training_args = TrainingArguments(\n",
    "#     output_dir=dir_to_save_checkpoints,\n",
    "#     group_by_length=True,\n",
    "#     per_device_train_batch_size=12,\n",
    "#     per_device_eval_batch_size=12,\n",
    "#     gradient_accumulation_steps=1,\n",
    "#     eval_strategy=\"steps\",\n",
    "#     num_train_epochs=30,\n",
    "#     fp16=True,\n",
    "#     gradient_checkpointing=True,\n",
    "#     save_steps=100,\n",
    "#     eval_steps=100,\n",
    "#     logging_steps=25,\n",
    "#     learning_rate=1e-4,\n",
    "#     warmup_steps=200,\n",
    "#     weight_decay=0.01,\n",
    "#     lr_scheduler_type=\"cosine_with_restarts\",\n",
    "#     save_total_limit=3,\n",
    "#     dataloader_num_workers=2,\n",
    "#     dataloader_pin_memory=True,\n",
    "#     load_best_model_at_end=True,\n",
    "#     metric_for_best_model=\"eval_loss\",\n",
    "#     greater_is_better=False,\n",
    "#     report_to=None,\n",
    "#     max_steps=4000,\n",
    "# )\n",
    "\n",
    "# trainer = Trainer(\n",
    "#     model=model,\n",
    "#     data_collator=data_collator,\n",
    "#     args=training_args,\n",
    "#     compute_metrics=asr_utils.create_compute_metrics(processor),\n",
    "#     train_dataset=train_dataset,\n",
    "#     eval_dataset=eval_dataset,\n",
    "#     processing_class=processor.feature_extractor,\n",
    "# )"
   ]
  },
  {
   "cell_type": "markdown",
   "id": "6fac38cb",
   "metadata": {},
   "source": [
    "## Папка назначения для финальной сохраненной модели"
   ]
  },
  {
   "cell_type": "code",
   "execution_count": 6,
   "id": "88dc2069",
   "metadata": {},
   "outputs": [],
   "source": [
    "dir_to_save_best = \"./trained/wav2vec2-960h-chukchi-final\""
   ]
  },
  {
   "cell_type": "markdown",
   "id": "8eb76563",
   "metadata": {},
   "source": [
    "## Обучение и сохранение результатов (раскомментируйте, чтобы запустить обучение моделей)"
   ]
  },
  {
   "cell_type": "code",
   "execution_count": null,
   "id": "32b9bcd8",
   "metadata": {},
   "outputs": [],
   "source": [
    "# trainer.train()\n",
    "\n",
    "# trainer.save_model(dir_to_save_best)\n",
    "# processor.save_pretrained(dir_to_save_best)"
   ]
  },
  {
   "cell_type": "markdown",
   "id": "b8b46c67",
   "metadata": {},
   "source": [
    "## Оценка модели на валидационной выборке (рассчёт WER/CER)"
   ]
  },
  {
   "cell_type": "code",
   "execution_count": null,
   "id": "ddc8c7f6",
   "metadata": {},
   "outputs": [
    {
     "name": "stdout",
     "output_type": "stream",
     "text": [
      "WER: 1.006\n",
      "CER: 2.192\n"
     ]
    }
   ],
   "source": [
    "path_to_save_results = \"./results/wav2vec2-results.txt\"\n",
    "asr_inference.evaluate_model(eval_dataset, dir_to_save_best, path_to_save_results)"
   ]
  }
 ],
 "metadata": {
  "kernelspec": {
   "display_name": ".venv",
   "language": "python",
   "name": "python3"
  },
  "language_info": {
   "codemirror_mode": {
    "name": "ipython",
    "version": 3
   },
   "file_extension": ".py",
   "mimetype": "text/x-python",
   "name": "python",
   "nbconvert_exporter": "python",
   "pygments_lexer": "ipython3",
   "version": "3.12.3"
  }
 },
 "nbformat": 4,
 "nbformat_minor": 5
}
